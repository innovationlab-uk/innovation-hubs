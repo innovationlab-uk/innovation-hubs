{
 "cells": [
  {
   "cell_type": "code",
   "execution_count": 3,
   "id": "3feb58fd",
   "metadata": {},
   "outputs": [],
   "source": [
    "import geocoder\n",
    "import csv"
   ]
  },
  {
   "cell_type": "code",
   "execution_count": 4,
   "id": "f3476f7b",
   "metadata": {},
   "outputs": [],
   "source": [
    "csv_lines = []\n",
    "with open('main_data.csv') as csv_file:\n",
    "    csv_reader = csv.reader(csv_file, delimiter=',')\n",
    "    for row in csv_reader:\n",
    "        µ = row\n",
    "        try:\n",
    "            g = geocoder.arcgis(µ[5])\n",
    "            µ.append(g.lat)\n",
    "            µ.append(g.lng)\n",
    "        except:\n",
    "            pass\n",
    "        csv_lines.append(µ)"
   ]
  },
  {
   "cell_type": "code",
   "execution_count": 7,
   "id": "5e26d0d6",
   "metadata": {},
   "outputs": [],
   "source": [
    "with open('geocoded_data.csv', mode='w') as file:\n",
    "    writer = csv.writer(file, delimiter=',', quotechar='\"', quoting=csv.QUOTE_MINIMAL)\n",
    "    for i in csv_lines:\n",
    "        writer.writerow(i)"
   ]
  },
  {
   "cell_type": "code",
   "execution_count": null,
   "id": "5af2e890",
   "metadata": {},
   "outputs": [],
   "source": []
  }
 ],
 "metadata": {
  "kernelspec": {
   "display_name": "Python 3",
   "language": "python",
   "name": "python3"
  },
  "language_info": {
   "codemirror_mode": {
    "name": "ipython",
    "version": 3
   },
   "file_extension": ".py",
   "mimetype": "text/x-python",
   "name": "python",
   "nbconvert_exporter": "python",
   "pygments_lexer": "ipython3",
   "version": "3.9.4"
  }
 },
 "nbformat": 4,
 "nbformat_minor": 5
}
